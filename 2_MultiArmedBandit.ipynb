{
 "cells": [
  {
   "cell_type": "markdown",
   "metadata": {
    "run_control": {
     "frozen": false,
     "read_only": false
    }
   },
   "source": [
    "# Stationary underlying problem : Multi-armed bandit\n",
    "\n",
    "In the language of reinforcement learning, this problem can be modeled as a single \"state\" with possible actions given by the number of arms. (one of the simplest RL problems)"
   ]
  },
  {
   "cell_type": "code",
   "execution_count": 1,
   "metadata": {
    "collapsed": true,
    "run_control": {
     "frozen": false,
     "read_only": false
    }
   },
   "outputs": [],
   "source": [
    "import numpy as np\n",
    "from scipy import stats\n",
    "import random\n",
    "import matplotlib.pyplot as plt"
   ]
  },
  {
   "cell_type": "code",
   "execution_count": 2,
   "metadata": {
    "collapsed": true,
    "run_control": {
     "frozen": false,
     "read_only": false
    }
   },
   "outputs": [],
   "source": [
    "Narms=6\n",
    "arms=np.random.rand(Narms)\n",
    "lRate=0.1"
   ]
  },
  {
   "cell_type": "code",
   "execution_count": 3,
   "metadata": {
    "run_control": {
     "frozen": false,
     "read_only": false
    }
   },
   "outputs": [
    {
     "data": {
      "text/plain": [
       "array([ 0.06765571,  0.74735905,  0.35977435,  0.57429015,  0.02918199,\n",
       "        0.83528795])"
      ]
     },
     "execution_count": 3,
     "metadata": {},
     "output_type": "execute_result"
    }
   ],
   "source": [
    "arms"
   ]
  },
  {
   "cell_type": "code",
   "execution_count": 4,
   "metadata": {
    "collapsed": true,
    "run_control": {
     "frozen": false,
     "read_only": false
    }
   },
   "outputs": [],
   "source": [
    "def reward(p):\n",
    "    reward=0\n",
    "    for i in range(10):\n",
    "        if (random.random() < p):\n",
    "            reward+=1\n",
    "    return reward"
   ]
  },
  {
   "cell_type": "markdown",
   "metadata": {
    "run_control": {
     "frozen": false,
     "read_only": false
    }
   },
   "source": [
    "Historical actions and results stored in a $k \\times 2$ sized matrix where each the first element of each row corresponds to the arm played and the second element corresponds to the payoff received."
   ]
  },
  {
   "cell_type": "markdown",
   "metadata": {
    "run_control": {
     "frozen": false,
     "read_only": false
    }
   },
   "source": [
    "## Q-function\n",
    "\n",
    "The function $Q(s,a)$ tries to estimate the value of each action $a$ in each state $s$. Here, the `AvgEarningsSoFar` for each action serves as such a function."
   ]
  },
  {
   "cell_type": "code",
   "execution_count": 5,
   "metadata": {
    "collapsed": true,
    "run_control": {
     "frozen": false,
     "read_only": false
    }
   },
   "outputs": [],
   "source": [
    "CountsSoFar = np.zeros(Narms)\n",
    "AvgEarningsSoFar = np.zeros(Narms)"
   ]
  },
  {
   "cell_type": "markdown",
   "metadata": {
    "run_control": {
     "frozen": false,
     "read_only": false
    }
   },
   "source": [
    "## Action policy\n",
    "\n",
    "The policy function $\\pi(s)$ determines the action to be taken in each state."
   ]
  },
  {
   "cell_type": "code",
   "execution_count": 6,
   "metadata": {
    "collapsed": true,
    "run_control": {
     "frozen": false,
     "read_only": false
    }
   },
   "outputs": [],
   "source": [
    "# Epsilon-greedy approach to choose the next action\n",
    "def greedyChoice(AvgEarningsSoFar,eps):\n",
    "    if (random.random() > eps): # greedy arm choice\n",
    "        choice = bestArm(AvgEarningsSoFar)\n",
    "    else: # random arm choice\n",
    "        choice = np.random.randint(len(AvgEarningsSoFar))\n",
    "    return choice\n",
    "\n",
    "# Greedy method to select the most profitable arm so far\n",
    "def bestArm(AvgEarningsSoFar):\n",
    "    bestArm = np.argmax(AvgEarningsSoFar)\n",
    "    return bestArm"
   ]
  },
  {
   "cell_type": "code",
   "execution_count": 7,
   "metadata": {
    "collapsed": true,
    "run_control": {
     "frozen": false,
     "read_only": false
    }
   },
   "outputs": [],
   "source": [
    "# Relaxing to the ground state at a fixed (low-enough) temperature\n",
    "def softmaxChoice(AvgEarningsSoFar, beta):\n",
    "    prob = np.exp(beta*AvgEarningsSoFar)\n",
    "    prob = prob/np.sum(prob)\n",
    "    choice = np.random.choice(np.arange(0,Narms),p=prob)\n",
    "    return choice"
   ]
  },
  {
   "cell_type": "code",
   "execution_count": 8,
   "metadata": {
    "collapsed": true,
    "run_control": {
     "frozen": false,
     "read_only": false
    }
   },
   "outputs": [],
   "source": [
    "plt.xlabel(\"Plays\")\n",
    "plt.ylabel(\"Average reward\")\n",
    "\n",
    "for i in range(200):\n",
    "    \n",
    "    #thisChoice = greedyChoice(AvgEarningsSoFar,eps=lRate)\n",
    "    thisChoice = softmaxChoice(AvgEarningsSoFar,beta=2)\n",
    "    \n",
    "    thisPayoff = reward(arms[thisChoice])\n",
    "    CountsSoFar[thisChoice] += 1\n",
    "    OldAvg = AvgEarningsSoFar[thisChoice]\n",
    "    AvgEarningsSoFar[thisChoice] = OldAvg + (thisPayoff - OldAvg)/CountsSoFar[thisChoice]\n",
    "    \n",
    "    runningMean = np.average(AvgEarningsSoFar,weights=CountsSoFar)\n",
    "    plt.scatter(i, runningMean)"
   ]
  },
  {
   "cell_type": "code",
   "execution_count": 9,
   "metadata": {
    "run_control": {
     "frozen": false,
     "read_only": false
    }
   },
   "outputs": [
    {
     "data": {
      "image/png": "[encoded data removed]",
      "text/plain": [
       "<matplotlib.figure.Figure at 0x7f30505301d0>"
      ]
     },
     "metadata": {},
     "output_type": "display_data"
    }
   ],
   "source": [
    "plt.show()"
   ]
  },
  {
   "cell_type": "code",
   "execution_count": 10,
   "metadata": {
    "run_control": {
     "frozen": false,
     "read_only": false
    }
   },
   "outputs": [
    {
     "data": {
      "text/plain": [
       "array([ 0.06765571,  0.74735905,  0.35977435,  0.57429015,  0.02918199,\n",
       "        0.83528795])"
      ]
     },
     "execution_count": 10,
     "metadata": {},
     "output_type": "execute_result"
    }
   ],
   "source": [
    "arms"
   ]
  },
  {
   "cell_type": "code",
   "execution_count": 11,
   "metadata": {
    "run_control": {
     "frozen": false,
     "read_only": false
    }
   },
   "outputs": [
    {
     "data": {
      "text/plain": [
       "array([ 0.        ,  0.        ,  0.        ,  5.76262626,  0.        ,  0.        ])"
      ]
     },
     "execution_count": 11,
     "metadata": {},
     "output_type": "execute_result"
    }
   ],
   "source": [
    "AvgEarningsSoFar"
   ]
  },
  {
   "cell_type": "code",
   "execution_count": 12,
   "metadata": {
    "run_control": {
     "frozen": false,
     "read_only": false
    }
   },
   "outputs": [
    {
     "data": {
      "text/plain": [
       "5.7049999999999992"
      ]
     },
     "execution_count": 12,
     "metadata": {},
     "output_type": "execute_result"
    }
   ],
   "source": [
    "np.average(AvgEarningsSoFar,weights=CountsSoFar)"
   ]
  },
  {
   "cell_type": "code",
   "execution_count": 13,
   "metadata": {
    "run_control": {
     "frozen": false,
     "read_only": false
    }
   },
   "outputs": [
    {
     "data": {
      "text/plain": [
       "array([   1.,    0.,    0.,  198.,    1.,    0.])"
      ]
     },
     "execution_count": 13,
     "metadata": {},
     "output_type": "execute_result"
    }
   ],
   "source": [
    "CountsSoFar"
   ]
  },
  {
   "cell_type": "code",
   "execution_count": null,
   "metadata": {
    "collapsed": true,
    "run_control": {
     "frozen": false,
     "read_only": false
    }
   },
   "outputs": [],
   "source": []
  }
 ],
 "metadata": {
  "kernelspec": {
   "display_name": "Python 3",
   "language": "python",
   "name": "python3"
  },
  "language_info": {
   "codemirror_mode": {
    "name": "ipython",
    "version": 3
   },
   "file_extension": ".py",
   "mimetype": "text/x-python",
   "name": "python",
   "nbconvert_exporter": "python",
   "pygments_lexer": "ipython3",
   "version": "3.6.1"
  }
 },
 "nbformat": 4,
 "nbformat_minor": 2
}
